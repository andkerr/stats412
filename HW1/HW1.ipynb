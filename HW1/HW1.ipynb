{
 "cells": [
  {
   "cell_type": "code",
   "execution_count": 91,
   "id": "8e18e4ea-2a0b-4db9-9801-3a68c5037a57",
   "metadata": {},
   "outputs": [],
   "source": [
    "from collections import Counter\n",
    "from typing import Iterable, List, Union"
   ]
  },
  {
   "cell_type": "code",
   "execution_count": 116,
   "id": "04af610a-6d2e-4f59-8b01-ef3699c91145",
   "metadata": {},
   "outputs": [],
   "source": [
    "import math\n",
    "\n",
    "\n",
    "def Fraction(n, d) -> str:\n",
    "    return f'Fraction({n}, {d})'\n",
    "\n",
    "\n",
    "class Sample(Counter):\n",
    "    '''A collection of (outcome, frequency) pairs'''\n",
    "    \n",
    "    def mean(self, as_frac=False) -> Union[float, Fraction]:\n",
    "        num = sum(outcome * freq for outcome, freq in self.items())\n",
    "        denom = self.total()\n",
    "        return Fraction(num, denom) if as_frac else num / denom\n",
    "    \n",
    "    \n",
    "    def median(self) -> Union[int, float]:\n",
    "        elements = sorted(self.elements())\n",
    "        mid = len(elements) // 2\n",
    "        if len(elements) % 2 == 1:\n",
    "            return elements[mid]\n",
    "        else:\n",
    "            return (elements[mid - 1] + elements[mid]) / 2\n",
    "    \n",
    "    \n",
    "    def variance(self, as_frac=False) -> Union[float, Fraction]:\n",
    "        mean = self.mean()\n",
    "        num = sum((outcome - mean)**2 for outcome in self.elements())\n",
    "        denom = self.total() - 1 # why do we do this?\n",
    "        return Fraction(num, denom) if as_frac else num / denom\n",
    "    \n",
    "    \n",
    "    def stdev(self) -> float:\n",
    "        return math.sqrt(self.variance())\n",
    "    \n",
    "    \n",
    "    def quartiles(self) -> List[float]:\n",
    "        quartiles = []\n",
    "        elements = sorted(map(float, self.elements()))\n",
    "        \n",
    "        '''Given non-integer value i, return the average of the elements\n",
    "        in the positions on either side of i (e.g. 6th and 7th elements\n",
    "        for i = 6.25). '''\n",
    "        avg = lambda i : (elements[int(i) - 1] + elements[int(i)]) / 2\n",
    "        \n",
    "        for q in [0.25, 0.5, 0.75]:\n",
    "            pos = q * (len(elements) + 1)\n",
    "            if pos.is_integer():\n",
    "                quartiles.append(elements[int(pos) - 1])\n",
    "            else:\n",
    "                quartiles.append(avg(pos))\n",
    "        \n",
    "        return quartiles\n",
    "    \n",
    "    \n",
    "    def percent_within(self, ndev=1) -> float:\n",
    "        '''Return the proportion of items within ndev\n",
    "        standard deviations of the sample mean.'''\n",
    "        m = self.mean()\n",
    "        s = self.stdev()\n",
    "        return sum(1 if m - ndev * s <= elem <= m + ndev * s else 0 for elem in self.elements()) / self.total()\n"
   ]
  },
  {
   "cell_type": "code",
   "execution_count": 117,
   "id": "5ccbda45-24a0-4d83-8415-5657aca036af",
   "metadata": {},
   "outputs": [],
   "source": [
    "# Some tests using example problems from Navidi\n",
    "\n",
    "assert Sample([1, 2, 3, 4]).median() == 2.5\n",
    "assert Sample([1, 2, 2, 3, 4]).median() == 2\n",
    "\n",
    "assert round(Sample([65.51, 72.30, 68.31, 67.05, 70.68]).stdev(), 2) == 2.73\n",
    "\n",
    "assert Sample([30, 75, 79, 80, 80, 105, 126, 138, 149, 179, 179, 191,\n",
    "             223, 232, 232, 236, 240, 242, 245, 247, 254, 274, 384, 470]).quartiles() == [115.5, 207.0, 243.5]"
   ]
  },
  {
   "cell_type": "markdown",
   "id": "7ccea0f7-2701-4a8a-adcb-5adc9c61b063",
   "metadata": {},
   "source": [
    "#### Navidi 1.2.10, Cars"
   ]
  },
  {
   "cell_type": "code",
   "execution_count": 100,
   "id": "c0154700-d6e1-4941-966d-e77a0e7a382c",
   "metadata": {},
   "outputs": [],
   "source": [
    "dist = Sample({1: 70, 2: 15, 3: 10, 4: 3, 5: 2})"
   ]
  },
  {
   "cell_type": "code",
   "execution_count": 101,
   "id": "be3ef4ae-7d0c-4c37-90b6-3171c3fb2306",
   "metadata": {},
   "outputs": [
    {
     "data": {
      "text/plain": [
       "Sample({1: 70, 2: 15, 3: 10, 4: 3, 5: 2})"
      ]
     },
     "execution_count": 101,
     "metadata": {},
     "output_type": "execute_result"
    }
   ],
   "source": [
    "dist"
   ]
  },
  {
   "cell_type": "markdown",
   "id": "ea7d5145-5f1c-4a00-8e30-39e354317594",
   "metadata": {},
   "source": [
    "##### a)"
   ]
  },
  {
   "cell_type": "code",
   "execution_count": 102,
   "id": "92ece567-af03-4514-84c9-feda64cb99e5",
   "metadata": {},
   "outputs": [
    {
     "data": {
      "text/plain": [
       "1.52"
      ]
     },
     "execution_count": 102,
     "metadata": {},
     "output_type": "execute_result"
    }
   ],
   "source": [
    "dist.mean()"
   ]
  },
  {
   "cell_type": "code",
   "execution_count": 103,
   "id": "e23a044a-d6a0-4b66-9ec9-b8ac3286aa73",
   "metadata": {},
   "outputs": [
    {
     "data": {
      "text/plain": [
       "'Fraction(152, 100)'"
      ]
     },
     "execution_count": 103,
     "metadata": {},
     "output_type": "execute_result"
    }
   ],
   "source": [
    "dist.mean(as_frac=True)"
   ]
  },
  {
   "cell_type": "markdown",
   "id": "6fe56aa0-1ca2-49d9-934e-64f145772f1b",
   "metadata": {},
   "source": [
    "##### b)"
   ]
  },
  {
   "cell_type": "code",
   "execution_count": 104,
   "id": "3e1a6065-19cd-4a6c-814d-52ca956bf76e",
   "metadata": {},
   "outputs": [
    {
     "data": {
      "text/plain": [
       "0.9372213390570224"
      ]
     },
     "execution_count": 104,
     "metadata": {},
     "output_type": "execute_result"
    }
   ],
   "source": [
    "dist.stdev()"
   ]
  },
  {
   "cell_type": "markdown",
   "id": "d3be93ea-2050-49e4-8ffe-ddd5f1fbc20f",
   "metadata": {},
   "source": [
    "##### c)"
   ]
  },
  {
   "cell_type": "code",
   "execution_count": 105,
   "id": "3fa27ec9-3cdd-43c1-b4f4-a3163d4fb2b4",
   "metadata": {},
   "outputs": [
    {
     "data": {
      "text/plain": [
       "1.0"
      ]
     },
     "execution_count": 105,
     "metadata": {},
     "output_type": "execute_result"
    }
   ],
   "source": [
    "dist.median()"
   ]
  },
  {
   "cell_type": "markdown",
   "id": "bf2ca20f-f7c8-4e8e-845c-127059c615d7",
   "metadata": {},
   "source": [
    "##### d)"
   ]
  },
  {
   "cell_type": "code",
   "execution_count": 106,
   "id": "bc0d145b-30f2-4066-beaf-a25e11e0a3ad",
   "metadata": {},
   "outputs": [
    {
     "data": {
      "text/plain": [
       "[1.0, 1.0, 2.0]"
      ]
     },
     "execution_count": 106,
     "metadata": {},
     "output_type": "execute_result"
    }
   ],
   "source": [
    "dist.quartiles()"
   ]
  },
  {
   "cell_type": "markdown",
   "id": "3736316f-4a65-4f1d-a9b2-2626424cded8",
   "metadata": {},
   "source": [
    "##### e)"
   ]
  },
  {
   "cell_type": "code",
   "execution_count": 115,
   "id": "d5a0290e-eb12-4087-8534-812cb29d69e7",
   "metadata": {},
   "outputs": [
    {
     "data": {
      "text/plain": [
       "0.3"
      ]
     },
     "execution_count": 115,
     "metadata": {},
     "output_type": "execute_result"
    }
   ],
   "source": [
    "gt_mean = lambda x : x > dist.mean()\n",
    "\n",
    "sum(1 if gt_mean(elem) else 0 for elem in dist.elements()) / dist.total()"
   ]
  },
  {
   "cell_type": "markdown",
   "id": "1eb507ee-60a7-4dd0-9b49-af0f56df31a6",
   "metadata": {},
   "source": [
    "##### f)"
   ]
  },
  {
   "cell_type": "code",
   "execution_count": 112,
   "id": "44741f29-4491-4e62-a94a-4c3d3b487272",
   "metadata": {},
   "outputs": [
    {
     "data": {
      "text/plain": [
       "0.15000000000000002"
      ]
     },
     "execution_count": 112,
     "metadata": {},
     "output_type": "execute_result"
    }
   ],
   "source": [
    "1 - dist.percent_within()"
   ]
  },
  {
   "cell_type": "markdown",
   "id": "8e06e3c3-ca98-4dd1-b8d4-b0c523111139",
   "metadata": {},
   "source": [
    "##### g)"
   ]
  },
  {
   "cell_type": "code",
   "execution_count": 113,
   "id": "737d2400-38d0-4f97-9ed9-72483a096f49",
   "metadata": {},
   "outputs": [
    {
     "data": {
      "text/plain": [
       "0.85"
      ]
     },
     "execution_count": 113,
     "metadata": {},
     "output_type": "execute_result"
    }
   ],
   "source": [
    "dist.percent_within()"
   ]
  }
 ],
 "metadata": {
  "kernelspec": {
   "display_name": "stats412",
   "language": "python",
   "name": "stats412"
  },
  "language_info": {
   "codemirror_mode": {
    "name": "ipython",
    "version": 3
   },
   "file_extension": ".py",
   "mimetype": "text/x-python",
   "name": "python",
   "nbconvert_exporter": "python",
   "pygments_lexer": "ipython3",
   "version": "3.10.9"
  }
 },
 "nbformat": 4,
 "nbformat_minor": 5
}
